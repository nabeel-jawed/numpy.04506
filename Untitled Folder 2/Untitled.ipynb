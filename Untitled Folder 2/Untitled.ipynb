{
 "cells": [
  {
   "cell_type": "code",
   "execution_count": 8,
   "metadata": {},
   "outputs": [],
   "source": [
    "import numpy as np\n",
    "from PIL import Image\n",
    "\n",
    "img = Image.open(\"rgb_img.jpg\")\n",
    "img = np.array(img.resize((180, 320)))\n",
    "grey = np.zeros((320, 180))\n",
    "\n",
    "grey_avg_array = (np.sum(img,axis=-1,keepdims=False)/3)\n",
    "grey_avg_array = grey_avg_array.astype(np.uint8)\n",
    "\n",
    "grey_image = Image.fromarray(grey_avg_array)\n"
   ]
  },
  {
   "cell_type": "code",
   "execution_count": null,
   "metadata": {},
   "outputs": [],
   "source": []
  }
 ],
 "metadata": {
  "kernelspec": {
   "display_name": "Python 3",
   "language": "python",
   "name": "python3"
  },
  "language_info": {
   "codemirror_mode": {
    "name": "ipython",
    "version": 3
   },
   "file_extension": ".py",
   "mimetype": "text/x-python",
   "name": "python",
   "nbconvert_exporter": "python",
   "pygments_lexer": "ipython3",
   "version": "3.8.5"
  }
 },
 "nbformat": 4,
 "nbformat_minor": 4
}
