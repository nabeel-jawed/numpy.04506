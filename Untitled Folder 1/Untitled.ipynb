{
 "cells": [
  {
   "cell_type": "code",
   "execution_count": 104,
   "metadata": {},
   "outputs": [],
   "source": [
    "import numpy as np\n",
    "from PIL import Image\n",
    "\n",
    "\n",
    "img = Image.open('rgb_img.jpg' ,'r')\n",
    "img = img.convert('L')\n",
    "y = np.asarray(img.getdata(),dtype=np.float64).reshape((img.size[1],img.size[0]))\n",
    "\n",
    "y=np.asarray(y,dtype = np.uint8)\n",
    "w = Image.fromarray(y,mode=\"L\")\n",
    "w.save(\"gray.jpg\")\n",
    "w.show()\n"
   ]
  },
  {
   "cell_type": "code",
   "execution_count": null,
   "metadata": {},
   "outputs": [],
   "source": []
  }
 ],
 "metadata": {
  "kernelspec": {
   "display_name": "Python 3",
   "language": "python",
   "name": "python3"
  },
  "language_info": {
   "codemirror_mode": {
    "name": "ipython",
    "version": 3
   },
   "file_extension": ".py",
   "mimetype": "text/x-python",
   "name": "python",
   "nbconvert_exporter": "python",
   "pygments_lexer": "ipython3",
   "version": "3.8.5"
  }
 },
 "nbformat": 4,
 "nbformat_minor": 4
}
