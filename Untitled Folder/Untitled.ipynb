{
 "cells": [
  {
   "cell_type": "code",
   "execution_count": 2,
   "metadata": {},
   "outputs": [],
   "source": [
    "import numpy as np\n",
    "from PIL import Image"
   ]
  },
  {
   "cell_type": "code",
   "execution_count": 3,
   "metadata": {},
   "outputs": [
    {
     "name": "stdout",
     "output_type": "stream",
     "text": [
      "JPEG\n",
      "(750, 750)\n",
      "RGB\n"
     ]
    }
   ],
   "source": [
    "# Open the image form working directory\n",
    "image = Image.open('nj.jpg')\n",
    "# summarize some details about the image\n",
    "print(image.format)\n",
    "print(image.size)\n",
    "print(image.mode)\n",
    "# show the image\n",
    "# image.show()"
   ]
  },
  {
   "cell_type": "code",
   "execution_count": 5,
   "metadata": {},
   "outputs": [
    {
     "name": "stdout",
     "output_type": "stream",
     "text": [
      "(750, 750, 3)\n",
      "[[[227 220 202]\n",
      "  [228 219 202]\n",
      "  [228 219 202]\n",
      "  ...\n",
      "  [219 214 211]\n",
      "  [219 214 211]\n",
      "  [219 214 211]]\n",
      "\n",
      " [[229 220 203]\n",
      "  [228 219 202]\n",
      "  [228 219 202]\n",
      "  ...\n",
      "  [219 214 211]\n",
      "  [219 214 211]\n",
      "  [219 214 211]]\n",
      "\n",
      " [[231 220 202]\n",
      "  [230 219 201]\n",
      "  [230 219 201]\n",
      "  ...\n",
      "  [220 215 212]\n",
      "  [220 215 212]\n",
      "  [219 214 211]]\n",
      "\n",
      " ...\n",
      "\n",
      " [[231 208 190]\n",
      "  [231 208 190]\n",
      "  [232 209 191]\n",
      "  ...\n",
      "  [208 185 179]\n",
      "  [209 188 183]\n",
      "  [212 193 189]]\n",
      "\n",
      " [[233 210 194]\n",
      "  [233 210 194]\n",
      "  [234 211 195]\n",
      "  ...\n",
      "  [209 184 179]\n",
      "  [210 186 182]\n",
      "  [212 191 188]]\n",
      "\n",
      " [[235 212 196]\n",
      "  [235 212 196]\n",
      "  [236 213 197]\n",
      "  ...\n",
      "  [209 184 179]\n",
      "  [210 187 181]\n",
      "  [211 190 187]]]\n",
      "(500, 500, 3)\n"
     ]
    }
   ],
   "source": [
    "data = np.asarray(image)\n",
    "print(data.shape)\n",
    "cropped = data[0:500, 0:500]\n",
    "print(cropped)\n",
    "print(cropped.shape)"
   ]
  },
  {
   "cell_type": "code",
   "execution_count": 8,
   "metadata": {},
   "outputs": [
    {
     "ename": "AttributeError",
     "evalue": "'numpy.ndarray' object has no attribute 'save'",
     "output_type": "error",
     "traceback": [
      "\u001b[1;31m---------------------------------------------------------------------------\u001b[0m",
      "\u001b[1;31mAttributeError\u001b[0m                            Traceback (most recent call last)",
      "\u001b[1;32m<ipython-input-8-811837e88b6c>\u001b[0m in \u001b[0;36m<module>\u001b[1;34m\u001b[0m\n\u001b[0;32m      1\u001b[0m \u001b[0mim\u001b[0m \u001b[1;33m=\u001b[0m \u001b[0mImage\u001b[0m\u001b[1;33m.\u001b[0m\u001b[0mfromarray\u001b[0m\u001b[1;33m(\u001b[0m\u001b[0mcropped\u001b[0m \u001b[1;33m,\u001b[0m \u001b[1;34m\"RGB\"\u001b[0m\u001b[1;33m)\u001b[0m\u001b[1;33m\u001b[0m\u001b[1;33m\u001b[0m\u001b[0m\n\u001b[1;32m----> 2\u001b[1;33m \u001b[0mcropped\u001b[0m\u001b[1;33m.\u001b[0m\u001b[0msave\u001b[0m\u001b[1;33m(\u001b[0m\u001b[1;34m'nj2.jpg'\u001b[0m\u001b[1;33m)\u001b[0m\u001b[1;33m\u001b[0m\u001b[1;33m\u001b[0m\u001b[0m\n\u001b[0m\u001b[0;32m      3\u001b[0m \u001b[0mim\u001b[0m\u001b[1;33m.\u001b[0m\u001b[0mshow\u001b[0m\u001b[1;33m(\u001b[0m\u001b[1;33m)\u001b[0m\u001b[1;33m\u001b[0m\u001b[1;33m\u001b[0m\u001b[0m\n",
      "\u001b[1;31mAttributeError\u001b[0m: 'numpy.ndarray' object has no attribute 'save'"
     ]
    }
   ],
   "source": [
    "im = Image.fromarray(cropped , \"RGB\")\n"
   ]
  },
  {
   "cell_type": "code",
   "execution_count": null,
   "metadata": {},
   "outputs": [],
   "source": []
  }
 ],
 "metadata": {
  "kernelspec": {
   "display_name": "Python 3",
   "language": "python",
   "name": "python3"
  },
  "language_info": {
   "codemirror_mode": {
    "name": "ipython",
    "version": 3
   },
   "file_extension": ".py",
   "mimetype": "text/x-python",
   "name": "python",
   "nbconvert_exporter": "python",
   "pygments_lexer": "ipython3",
   "version": "3.8.5"
  }
 },
 "nbformat": 4,
 "nbformat_minor": 4
}
